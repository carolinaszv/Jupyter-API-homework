{
 "cells": [
  {
   "cell_type": "markdown",
   "metadata": {},
   "source": [
    "# WeatherAPI (Weather)\n",
    "\n",
    "Answer the following questions using [WeatherAPI](http://www.weatherapi.com/). I've added three cells for most questions but you're free to use more or less! Hold `Shift` and hit `Enter` to run a cell, and use the `+` on the top left to add a new cell to a notebook.\n",
    "\n",
    "Be sure to take advantage of both the documentation and the API Explorer!\n",
    "\n",
    "## 0) Import any libraries you might need\n",
    "\n",
    "- *Tip: We're going to be downloading things from the internet, so we probably need `requests`.*\n",
    "- *Tip: Remember you only need to import requests once!*"
   ]
  },
  {
   "cell_type": "code",
   "execution_count": 1,
   "metadata": {},
   "outputs": [],
   "source": [
    "import requests"
   ]
  },
  {
   "cell_type": "code",
   "execution_count": null,
   "metadata": {},
   "outputs": [],
   "source": []
  },
  {
   "cell_type": "markdown",
   "metadata": {
    "collapsed": true
   },
   "source": [
    "## 1) Make a request to the Weather API for where you were born (or lived, or want to visit!).\n",
    "\n",
    "- *Tip: The URL we used in class was for a place near San Francisco. What was the format of the endpoint that made this happen?*\n",
    "- *Tip: Save the URL as a separate variable, and be sure to not have `[` and `]` inside.*\n",
    "- *Tip: How is north vs. south and east vs. west latitude/longitude represented? Is it the normal North/South/East/West?*\n",
    "- *Tip: You know it's JSON, but Python doesn't! Make sure you aren't trying to deal with plain text.* \n",
    "- *Tip: Once you've imported the JSON into a variable, check the timezone's name to make sure it seems like it got the right part of the world!*"
   ]
  },
  {
   "cell_type": "code",
   "execution_count": 2,
   "metadata": {},
   "outputs": [],
   "source": [
    "medellin_url = \"http://api.weatherapi.com/v1/current.json?key=0a92ef3bdeda43698a240620221506&q=Medellin&aqi=no\"\n",
    "response = requests.get(medellin_url)\n",
    "medellin_data = response.json()"
   ]
  },
  {
   "cell_type": "code",
   "execution_count": null,
   "metadata": {},
   "outputs": [],
   "source": []
  },
  {
   "cell_type": "code",
   "execution_count": null,
   "metadata": {},
   "outputs": [],
   "source": []
  },
  {
   "cell_type": "markdown",
   "metadata": {},
   "source": [
    "## 2) What's the current wind speed? How much warmer does it feel than it actually is?\n",
    "\n",
    "- *Tip: You can do this by browsing through the dictionaries, but it might be easier to read the documentation*\n",
    "- *Tip: For the second half: it **is** one temperature, and it **feels** a different temperature. Calculate the difference.*"
   ]
  },
  {
   "cell_type": "code",
   "execution_count": 7,
   "metadata": {},
   "outputs": [
    {
     "name": "stdout",
     "output_type": "stream",
     "text": [
      "The current wind speed in Medellin is 3.8 mph.\n"
     ]
    }
   ],
   "source": [
    "print(\"The current wind speed in Medellin is\", medellin_data['current']['wind_mph'],\"mph.\")"
   ]
  },
  {
   "cell_type": "code",
   "execution_count": 8,
   "metadata": {},
   "outputs": [
    {
     "name": "stdout",
     "output_type": "stream",
     "text": [
      "It feels exactly as it should.\n"
     ]
    }
   ],
   "source": [
    "medellin_current = medellin_data['current']['temp_f']\n",
    "medellin_feelslike = medellin_data['current']['feelslike_f']\n",
    "\n",
    "if medellin_feelslike > medellin_current:\n",
    "    print(f\"It feels {medellin_feelslike - medellin_current :.1f} degrees warmer.\")\n",
    "elif medellin_feelslike < medellin_current:\n",
    "    print(f\"It feels {medellin_current - medellin_feelslike :.1f} degrees colder.\")\n",
    "else:\n",
    "    print(\"It feels exactly as it should.\")"
   ]
  },
  {
   "cell_type": "code",
   "execution_count": null,
   "metadata": {},
   "outputs": [],
   "source": []
  },
  {
   "cell_type": "markdown",
   "metadata": {},
   "source": [
    "## 3) What is the API endpoint for moon-related information? For the place you decided on above, how much of the moon will be visible tomorrow?\n",
    "\n",
    "- *Tip: Check the documentation!*\n",
    "- *Tip: If you aren't sure what something means, ask in Slack*"
   ]
  },
  {
   "cell_type": "code",
   "execution_count": 13,
   "metadata": {},
   "outputs": [],
   "source": [
    "medellin_forecast_url = \"http://api.weatherapi.com/v1/forecast.json?key=0a92ef3bdeda43698a240620221506&q=Medellin&days=3&aqi=no&alerts=no\"\n",
    "response = requests.get(medellin_forecast_url)\n",
    "medellin_moon = response.json()"
   ]
  },
  {
   "cell_type": "code",
   "execution_count": 14,
   "metadata": {
    "scrolled": true
   },
   "outputs": [
    {
     "name": "stdout",
     "output_type": "stream",
     "text": [
      "48 percent of the moon will be visible tomorrow.\n"
     ]
    }
   ],
   "source": [
    "print(medellin_moon['forecast']['forecastday'][1]['astro']['moon_illumination'], \"percent of the moon will be visible tomorrow.\")"
   ]
  },
  {
   "cell_type": "code",
   "execution_count": null,
   "metadata": {},
   "outputs": [],
   "source": []
  },
  {
   "cell_type": "markdown",
   "metadata": {},
   "source": [
    "## 4) What's the difference between the high and low temperatures for today?\n",
    "\n",
    "- *Tip: When you requested moon data, you probably overwrote your variables! If so, you'll need to make a new request.*"
   ]
  },
  {
   "cell_type": "code",
   "execution_count": 11,
   "metadata": {},
   "outputs": [
    {
     "name": "stdout",
     "output_type": "stream",
     "text": [
      "The difference between the high and low temperatures for today is 25\n"
     ]
    }
   ],
   "source": [
    "print(f\"The difference between the high and low temperatures for today is\", round(medellin_moon['forecast']['forecastday'][0]['day']['maxtemp_f']-medellin_moon['forecast']['forecastday'][0]['day']['mintemp_f']))\n",
    "\n",
    "#using round because I can't figure out f-string decimal place here :("
   ]
  },
  {
   "cell_type": "code",
   "execution_count": null,
   "metadata": {},
   "outputs": [],
   "source": []
  },
  {
   "cell_type": "markdown",
   "metadata": {
    "collapsed": true
   },
   "source": [
    "## 4.5) How can you avoid the \"oh no I don't have the data any more because I made another request\" problem in the future?\n",
    "\n",
    "What variable(s) do you have to rename, and what would you rename them?"
   ]
  },
  {
   "cell_type": "code",
   "execution_count": 12,
   "metadata": {},
   "outputs": [
    {
     "name": "stdout",
     "output_type": "stream",
     "text": [
      "I didn't have this problem, so I do not know how to answer this.\n"
     ]
    }
   ],
   "source": [
    "print(\"I didn't have this problem, so I do not know how to answer this.\")"
   ]
  },
  {
   "cell_type": "code",
   "execution_count": null,
   "metadata": {},
   "outputs": [],
   "source": []
  },
  {
   "cell_type": "markdown",
   "metadata": {},
   "source": [
    "## 5) Go through the daily forecasts, printing out the next three days' worth of predictions.\n",
    "\n",
    "I'd like to know the **high temperature** for each day, and whether it's **hot, warm, or cold** (based on what temperatures you think are hot, warm or cold).\n",
    "\n",
    "- *Tip: You'll need to use an `if` statement to say whether it is hot, warm or cold.*"
   ]
  },
  {
   "cell_type": "code",
   "execution_count": 40,
   "metadata": {},
   "outputs": [],
   "source": [
    "medellin_forecast = response.json()"
   ]
  },
  {
   "cell_type": "code",
   "execution_count": 41,
   "metadata": {},
   "outputs": [
    {
     "name": "stdout",
     "output_type": "stream",
     "text": [
      "On 2022-06-19 it's forecast to be a high of 74.1 degrees, which is nice & warm in Carolina's world.\n",
      "On 2022-06-20 it's forecast to be a high of 68.4 degrees, which is nice & warm in Carolina's world.\n",
      "On 2022-06-21 it's forecast to be a high of 71.4 degrees, which is nice & warm in Carolina's world.\n"
     ]
    }
   ],
   "source": [
    "for forecast_high in medellin_forecast['forecast']['forecastday']:\n",
    "    high_temp = forecast_high['day']['maxtemp_f']\n",
    "    if high_temp >= 76:\n",
    "        print(\"On\", forecast_high['date'], \"it's forecast to be a high of\", high_temp, \"degrees, which is hot in Carolina's world.\")\n",
    "    elif high_temp < 76:\n",
    "        print(\"On\", forecast_high['date'], \"it's forecast to be a high of\", high_temp, \"degrees, which is nice & warm in Carolina's world.\")\n",
    "    elif high_temp > 64:\n",
    "        print(\"On\", forecast_high['date'], \"it's forecast to be a high of\", high_temp, \"degrees, which is cold in Carolina's world.\")\n",
    "\n",
    "\n",
    "    "
   ]
  },
  {
   "cell_type": "code",
   "execution_count": null,
   "metadata": {},
   "outputs": [],
   "source": []
  },
  {
   "cell_type": "markdown",
   "metadata": {},
   "source": [
    "## 5b) The question above used to be an entire week, but not any more. Try to re-use the code above to print out seven days.\n",
    "\n",
    "What happens? Can you figure out why it doesn't work?\n",
    "\n",
    "* *Tip: it has to do with the reason you're using an API key - maybe take a look at the \"Air Quality Data\" introduction for a hint? If you can't figure it out right now, no worries.*"
   ]
  },
  {
   "cell_type": "code",
   "execution_count": 42,
   "metadata": {},
   "outputs": [],
   "source": [
    "medellin_forecast_url = \"http://api.weatherapi.com/v1/forecast.json?key=0a92ef3bdeda43698a240620221506&q=Medellin&days=7&aqi=no&alerts=no\"\n",
    "response = requests.get(medellin_forecast_url)\n",
    "medellin_forecast = response.json()"
   ]
  },
  {
   "cell_type": "code",
   "execution_count": 43,
   "metadata": {},
   "outputs": [
    {
     "name": "stdout",
     "output_type": "stream",
     "text": [
      "On 2022-06-19 it's forecast to be a high of 74.1 degrees, which is nice & warm in Carolina's world.\n",
      "On 2022-06-20 it's forecast to be a high of 68.4 degrees, which is nice & warm in Carolina's world.\n",
      "On 2022-06-21 it's forecast to be a high of 71.4 degrees, which is nice & warm in Carolina's world.\n"
     ]
    }
   ],
   "source": [
    "for forecast_high in medellin_forecast['forecast']['forecastday']:\n",
    "    high_temp = forecast_high['day']['maxtemp_f']\n",
    "    if high_temp >= 76:\n",
    "        print(\"On\", forecast_high['date'], \"it's forecast to be a high of\", high_temp, \"degrees, which is hot in Carolina's world.\")\n",
    "    elif high_temp < 76:\n",
    "        print(\"On\", forecast_high['date'], \"it's forecast to be a high of\", high_temp, \"degrees, which is nice & warm in Carolina's world.\")\n",
    "    elif high_temp > 64:\n",
    "        print(\"On\", forecast_high['date'], \"it's forecast to be a high of\", high_temp, \"degrees, which is cold in Carolina's world.\")\n"
   ]
  },
  {
   "cell_type": "code",
   "execution_count": 44,
   "metadata": {},
   "outputs": [
    {
     "name": "stdout",
     "output_type": "stream",
     "text": [
      "I changed the URL day up to 7 and did not work. My API Key shows that I have a free account, so I am limited to three days.\n"
     ]
    }
   ],
   "source": [
    "print(\"I changed the URL day up to 7 and did not work. My API Key shows that I have a free account, so I am limited to three days.\")"
   ]
  },
  {
   "cell_type": "markdown",
   "metadata": {},
   "source": [
    "## 6) What will be the hottest day in the next three days? What is the high temperature on that day?"
   ]
  },
  {
   "cell_type": "code",
   "execution_count": 109,
   "metadata": {},
   "outputs": [
    {
     "name": "stdout",
     "output_type": "stream",
     "text": [
      "2022-06-19 will be the hottest day in the next three days with a high temperature of 74.1 degrees.\n"
     ]
    }
   ],
   "source": [
    "max_temp = 0\n",
    "\n",
    "for forecast_high in medellin_forecast['forecast']['forecastday']:\n",
    "    if forecast_high['day']['maxtemp_f'] > max_temp:\n",
    "        max_temp = forecast_high['day']['maxtemp_f']\n",
    "        max_day = forecast_high['date']\n",
    "print(max_day, \"will be the hottest day in the next three days with a high temperature of\", highest_max_temp, \"degrees.\")"
   ]
  },
  {
   "cell_type": "code",
   "execution_count": 108,
   "metadata": {},
   "outputs": [],
   "source": [
    "#I don't know what I'm doing wrong here and there is no one available to help so I'm throwing in the towel."
   ]
  },
  {
   "cell_type": "code",
   "execution_count": null,
   "metadata": {},
   "outputs": [],
   "source": []
  },
  {
   "cell_type": "markdown",
   "metadata": {},
   "source": [
    "## 7) What's the weather looking like for the next 24+ hours in Miami, Florida?\n",
    "\n",
    "I'd like to know the temperature for every hour, and if it's going to have cloud cover of more than 50% say \"{temperature} and cloudy\" instead of just the temperature. \n",
    "\n",
    "- *Tip: You'll only need one day of forecast*"
   ]
  },
  {
   "cell_type": "code",
   "execution_count": 78,
   "metadata": {},
   "outputs": [],
   "source": [
    "miami_24hr_url = \"http://api.weatherapi.com/v1/forecast.json?key=0a92ef3bdeda43698a240620221506&q=Miami, Florida&days=1&aqi=no&alerts=no\"\n",
    "response = requests.get(miami_24hr_url)\n",
    "miami_24hr = response.json()"
   ]
  },
  {
   "cell_type": "code",
   "execution_count": 100,
   "metadata": {},
   "outputs": [
    {
     "name": "stdout",
     "output_type": "stream",
     "text": [
      "Here's a look at how the weather will be for the next 24+ hours in Miami, Florida:\n",
      "At 2022-06-20 00:00 it will be 84.4 degrees and Partly cloudy\n",
      "At 2022-06-20 01:00 it will be 84.2 degrees and Patchy rain possible\n",
      "At 2022-06-20 02:00 it will be 84.0 degrees and Partly cloudy\n",
      "At 2022-06-20 03:00 it will be 83.7 degrees and Partly cloudy\n",
      "At 2022-06-20 04:00 it will be 83.3 degrees and Partly cloudy\n",
      "At 2022-06-20 05:00 it will be 83.1 degrees and Clear\n",
      "At 2022-06-20 06:00 it will be 82.9 degrees and Partly cloudy\n",
      "At 2022-06-20 07:00 it will be 82.6 degrees and Partly cloudy\n",
      "At 2022-06-20 08:00 it will be 82.8 degrees and Partly cloudy\n",
      "At 2022-06-20 09:00 it will be 83.1 degrees and Sunny\n",
      "At 2022-06-20 10:00 it will be 83.8 degrees and Sunny\n",
      "At 2022-06-20 11:00 it will be 90.1 degrees and Sunny\n",
      "At 2022-06-20 12:00 it will be 91.0 degrees and Sunny\n",
      "At 2022-06-20 13:00 it will be 91.2 degrees and Sunny\n",
      "At 2022-06-20 14:00 it will be 91.6 degrees and Sunny\n",
      "At 2022-06-20 15:00 it will be 91.6 degrees and Sunny\n",
      "At 2022-06-20 16:00 it will be 91.0 degrees and Sunny\n",
      "At 2022-06-20 17:00 it will be 89.6 degrees and Sunny\n",
      "At 2022-06-20 18:00 it will be 87.8 degrees and Sunny\n",
      "At 2022-06-20 19:00 it will be 85.5 degrees and Partly cloudy\n",
      "At 2022-06-20 20:00 it will be 84.7 degrees and Partly cloudy\n",
      "At 2022-06-20 21:00 it will be 84.4 degrees and Patchy rain possible\n",
      "At 2022-06-20 22:00 it will be 84.2 degrees and Partly cloudy\n",
      "At 2022-06-20 23:00 it will be 84.0 degrees and Light rain shower\n"
     ]
    }
   ],
   "source": [
    "print(\"Here's a look at how the weather will be for the next 24+ hours in Miami, Florida:\")\n",
    "for miami_hrs in miami_24hr['forecast']['forecastday']:\n",
    "    for miami_wx in miami_hrs['hour']:\n",
    "        time = miami_wx['time']\n",
    "        temp = miami_wx['temp_f']\n",
    "        cloud_cover = miami_wx['condition']['text']\n",
    "        print(\"At\",time,\"it will be\", temp, \"degrees and\",cloud_cover)"
   ]
  },
  {
   "cell_type": "code",
   "execution_count": null,
   "metadata": {
    "collapsed": true
   },
   "outputs": [],
   "source": []
  },
  {
   "cell_type": "markdown",
   "metadata": {},
   "source": [
    "## 8) For the next 24-ish hours in Miami, what percent of the time is the temperature above 85 degrees?\n",
    "\n",
    "- *Tip: You might want to read up on [looping patterns](http://jonathansoma.com/lede/foundations-2017/classes/data%20structures/looping-patterns/)*"
   ]
  },
  {
   "cell_type": "code",
   "execution_count": 129,
   "metadata": {},
   "outputs": [
    {
     "name": "stdout",
     "output_type": "stream",
     "text": [
      "About 37.5 percent of the next 24-ish hours will be above 85 degrees.\n"
     ]
    }
   ],
   "source": [
    "above_85 = 0\n",
    "for miami_hrs in miami_24hr['forecast']['forecastday']:\n",
    "    for miami_wx in miami_hrs['hour']:\n",
    "        time = miami_wx['time']\n",
    "        temp = miami_wx['temp_f']\n",
    "        if temp > 85:\n",
    "            above_85 = above_85 + 1\n",
    "print(\"About\",(above_85/24)*100, \"percent of the next 24-ish hours will be above 85 degrees.\")"
   ]
  },
  {
   "cell_type": "code",
   "execution_count": null,
   "metadata": {
    "collapsed": true
   },
   "outputs": [],
   "source": []
  },
  {
   "cell_type": "code",
   "execution_count": null,
   "metadata": {
    "collapsed": true
   },
   "outputs": [],
   "source": []
  },
  {
   "cell_type": "markdown",
   "metadata": {},
   "source": [
    "## 9) How much will it cost if you need to use 1,500,000 API calls?\n",
    "\n",
    "You are only allowed 1,000,000 API calls each month. If you were really bad at this homework or made some awful loops, WeatherAPI might shut down your free access. \n",
    "\n",
    "* *Tip: this involves looking somewhere that isn't the normal documentation.*"
   ]
  },
  {
   "cell_type": "code",
   "execution_count": null,
   "metadata": {},
   "outputs": [],
   "source": [
    "print(\"It would cost $4 a month to upgrade from the free 1,000,000 API calls to the next available tier of 2,000,000 API calls.\")"
   ]
  },
  {
   "cell_type": "code",
   "execution_count": null,
   "metadata": {},
   "outputs": [],
   "source": []
  },
  {
   "cell_type": "markdown",
   "metadata": {},
   "source": [
    "## 10) You're too poor to spend more money! What else could you do instead of give them money?\n",
    "\n",
    "* *Tip: I'm not endorsing being sneaky, but newsrooms and students are both generally poverty-stricken.*"
   ]
  },
  {
   "cell_type": "code",
   "execution_count": null,
   "metadata": {},
   "outputs": [],
   "source": [
    "print(\"You could pay with time by waiting until midnight on the 1st of the next month UTC for the quota to reset.\")"
   ]
  }
 ],
 "metadata": {
  "kernelspec": {
   "display_name": "Python 3 (ipykernel)",
   "language": "python",
   "name": "python3"
  },
  "language_info": {
   "codemirror_mode": {
    "name": "ipython",
    "version": 3
   },
   "file_extension": ".py",
   "mimetype": "text/x-python",
   "name": "python",
   "nbconvert_exporter": "python",
   "pygments_lexer": "ipython3",
   "version": "3.10.3"
  }
 },
 "nbformat": 4,
 "nbformat_minor": 1
}
